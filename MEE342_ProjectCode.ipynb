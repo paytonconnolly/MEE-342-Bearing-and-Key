{
  "nbformat": 4,
  "nbformat_minor": 0,
  "metadata": {
    "colab": {
      "provenance": [],
      "include_colab_link": true
    },
    "kernelspec": {
      "name": "python3",
      "display_name": "Python 3"
    },
    "language_info": {
      "name": "python"
    }
  },
  "cells": [
    {
      "cell_type": "markdown",
      "metadata": {
        "id": "view-in-github",
        "colab_type": "text"
      },
      "source": [
        "<a href=\"https://colab.research.google.com/github/paytonconnolly/MEE-342-Bearing-and-Key/blob/main/MEE342_ProjectCode.ipynb\" target=\"_parent\"><img src=\"https://colab.research.google.com/assets/colab-badge.svg\" alt=\"Open In Colab\"/></a>"
      ]
    },
    {
      "cell_type": "markdown",
      "source": [
        "Bearing\n",
        "\n"
      ],
      "metadata": {
        "id": "qeHcu51lmO0K"
      }
    },
    {
      "cell_type": "code",
      "execution_count": null,
      "metadata": {
        "id": "BHZYA5rquehU",
        "colab": {
          "base_uri": "https://localhost:8080/"
        },
        "outputId": "63a4a300-8f7c-4599-ad6f-a3a36428d7b5"
      },
      "outputs": [
        {
          "output_type": "stream",
          "name": "stdout",
          "text": [
            "0.7033253366757095\n",
            "11.575811690658968\n",
            "Catalog C10 = 9.56 (kN)\n",
            "Bore diameter = 17 (mm)\n",
            "OD = 40 (mm)\n",
            "Width = 12 (mm)\n"
          ]
        }
      ],
      "source": [
        "import math\n",
        "\n",
        "# Input Parameters\n",
        "Fr_in = 150     # radial load input (lbf)\n",
        "Fa_in = 50    # axial load input (lbf)\n",
        "Rd = 0.99        # desired reliability \n",
        "n = 360         # desired amount rotations (rev/min)\n",
        "ld = 12000        # desired life (hrs)\n",
        "\n",
        "# Convert to kN\n",
        "Fr = (Fr_in * 4.44822)/1000     # (kN)\n",
        "Fa = (Fa_in * 4.44822)/1000     # (kN)\n",
        "\n",
        "# Find equivalent force\n",
        "Fe = math.sqrt(Fr**2 + Fa**2)   # (kN)\n",
        "print(Fe)\n",
        "\n",
        "# Input Weibull parameters and other necessary equation parameters\n",
        "a = 3         # ball bearing\n",
        "theta = 4.459 # characteristic parameter\n",
        "af = 1.2      # application factor of desired load \n",
        "x0 = 0.02     # guaranteed (minimum) value of x\n",
        "b = 1.1483    # slope parameter\n",
        "\n",
        "# Find desired dimensionless life measure\n",
        "Ld = n * ld * 60    # desired life (rev)\n",
        "Lr = 1000000        # rating life nr*lr*60 (rev)\n",
        "Xd = Ld/Lr          # desired dimensionless life measure\n",
        "\n",
        "# Calculate C10, load rating (equation 11-10)\n",
        "C10 = af * Fe * (Xd/(x0 + (theta - x0)*((1 - Rd)**(1/b))))**(1/a)    # (kN)\n",
        "print(C10)\n",
        "\n",
        "# Compare C10 against tabulated C10 from table 11-2 in Shigley textbook, choose \n",
        "# value from deep groove column that is less than the calculated value,\n",
        "# take the given bore diameter (mm), outer diameter OD (mm), and width of bearing\n",
        "# (mm) from the table\n",
        "print('Catalog C10 = 9.56 (kN)')       # insert catalog load rating from table 11-2\n",
        "print('Bore diameter = 17 (mm)')     # inset corresponding bore diameter from table 11-2\n",
        "print('OD = 40 (mm)')                # insert corresponding OD from table 11-2\n",
        "print('Width = 12 (mm)')             # insert corresponding width from table 11-2\n",
        "\n"
      ]
    },
    {
      "cell_type": "markdown",
      "source": [
        "Key"
      ],
      "metadata": {
        "id": "A3S0su2OmMcm"
      }
    },
    {
      "cell_type": "code",
      "source": [
        "T = 3240        # torque input from gear team (lbf-in)\n",
        "d =  1.625       # bore diameter input from shaft team (in)\n",
        "h =   2      # gear hub lengths from gear team (in)\n",
        "n = 2       # factor of saftey \n",
        "\n",
        "S = 57000        # 1020 CD material from table 7-6 (psi)\n",
        "t = 3/8       # cross section side length (in)\n",
        "F = T/(d/2) # (kN)\n",
        "print(F)\n",
        "\n",
        "# Check for failure by crushing (bending)\n",
        "l = (2*F*n)/(t*S)\n",
        "print(l)"
      ],
      "metadata": {
        "id": "Zl1KvMz5mHeS",
        "colab": {
          "base_uri": "https://localhost:8080/"
        },
        "outputId": "3393fc65-cd18-4db1-c13f-c7ea2b724ff8"
      },
      "execution_count": null,
      "outputs": [
        {
          "output_type": "stream",
          "name": "stdout",
          "text": [
            "3987.6923076923076\n",
            "0.7462348178137652\n"
          ]
        }
      ]
    },
    {
      "cell_type": "markdown",
      "source": [
        "If the gears have the same bore diameters and transmit the same torque, the same key length can be selected. If not repeat this portion of the code. "
      ],
      "metadata": {
        "id": "-23VH76zsyNI"
      }
    }
  ]
}